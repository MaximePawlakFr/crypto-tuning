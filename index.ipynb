{
 "cells": [
  {
   "cell_type": "code",
   "execution_count": null,
   "metadata": {
    "collapsed": true
   },
   "outputs": [],
   "source": [
    "import pandas as pd\n",
    "import numpy as np\n",
    "import time\n",
    "from datetime import datetime, timedelta\n",
    "import matplotlib.pyplot as plt\n",
    "import seaborn as sns\n",
    "%matplotlib inline"
   ]
  },
  {
   "cell_type": "markdown",
   "metadata": {},
   "source": [
    "## Import static data"
   ]
  },
  {
   "cell_type": "code",
   "execution_count": null,
   "metadata": {},
   "outputs": [],
   "source": [
    "df1 = pd.read_json(\"./data/w01-18.json\")\n",
    "df2 = pd.read_json(\"./data/w19-34.json\")\n",
    "df3 = pd.read_json(\"./data/w35-49.json\")\n",
    "df4 = pd.read_json(\"./data/w50-52.json\")\n",
    "\n",
    "print(df1.shape)\n",
    "print(df2.shape)\n",
    "print(df3.shape)\n",
    "print(df4.shape)"
   ]
  },
  {
   "cell_type": "markdown",
   "metadata": {},
   "source": [
    "# Load data from web"
   ]
  },
  {
   "cell_type": "markdown",
   "metadata": {},
   "source": [
    "### Utilities functions to handle date & time"
   ]
  },
  {
   "cell_type": "code",
   "execution_count": null,
   "metadata": {
    "collapsed": true
   },
   "outputs": [],
   "source": [
    "def getWeekNumber(date):\n",
    "    return date.isocalendar()[1]\n",
    "\n",
    "def getYear(date):\n",
    "    return date.isocalendar()[0]\n",
    "\n",
    "def getWeekday(date):\n",
    "    return date.isoweekday()\n",
    "\n",
    "def getStrDate(date):\n",
    "    return date.strftime(\"%Y-%m-%d\")\n",
    "\n",
    "def getYearAndWeek(date):\n",
    "    y = str(getYear(date)) + (str(getWeekNumber(date)) if getWeekNumber(date)>10 \\\n",
    "        else '0' + str(getWeekNumber(date)))\n",
    "    return y"
   ]
  },
  {
   "cell_type": "code",
   "execution_count": null,
   "metadata": {
    "collapsed": true
   },
   "outputs": [],
   "source": [
    "def keepFullDays(df):\n",
    "    fullDayMask = df.groupby(lambda x: getStrDate(df.loc[x][\"ts\"])).count() == 24\n",
    "    nonFullDays = fullDayMask[fullDayMask[\"open\"] == False].index\n",
    "    hourTickerInNonFullDaysMask = df[\"ts\"].apply(getStrDate).isin(nonFullDays)\n",
    "    res_df = df[~hourTickerInNonFullDaysMask]\n",
    "    return res_df"
   ]
  },
  {
   "cell_type": "code",
   "execution_count": null,
   "metadata": {
    "collapsed": true
   },
   "outputs": [],
   "source": [
    "# Load data and save it to file\n",
    "import urllib.request\n",
    "\n",
    "nb_days = 30\n",
    "now = datetime.now()\n",
    "now.isoformat()\n",
    "now_str = now.strftime(\"%Y-%m-%d\")\n",
    "\n",
    "start = now - timedelta(days=nb_days)\n",
    "start_str = start.strftime(\"%Y-%m-%d\")\n",
    "\n",
    "filename = \"./data/\" + start_str +\"-\"+now_str+\".json\"\n",
    "\n",
    "url = \"https://bitcoincharts.com/charts/chart.json?m=bitstampUSD&r={nb_days}&i=Hourly\".format(nb_days=str(nb_days))\n",
    "response = urllib.request.urlopen(url)\n",
    "data = response.read()\n",
    "\n",
    "f = open(filename, 'wb')\n",
    "f.write(data)\n",
    "f.close()\n"
   ]
  },
  {
   "cell_type": "code",
   "execution_count": null,
   "metadata": {
    "collapsed": true
   },
   "outputs": [],
   "source": [
    "def formatDataFrameFromJSON(filename):\n",
    "    df = pd.read_json(filename)\n",
    "    \n",
    "    # Set columns and index\n",
    "    df.columns = [\"ts\", \"open\", \"high\", \"low\", \"close\", \"vol_btc\", \"vol_cur\", \"weighted_price\"]\n",
    "    df[\"ts\"] = pd.to_datetime(df[\"ts\"], unit=\"s\")\n",
    "    df = df.set_index(\"ts\")\n",
    "    # reset index b/c it was removed\n",
    "    df[\"ts\"] = df.index\n",
    "    \n",
    "    # Add columns\n",
    "    df[\"weekNumber\"] = df[\"ts\"].apply(getWeekNumber)\n",
    "    df[\"weekday\"] = df[\"ts\"].apply(getWeekday)\n",
    "    df[\"timeRef\"] = df[\"ts\"].apply(getYearAndWeek)\n",
    "    \n",
    "    # Last processings...\n",
    "    df = keepFullDays(df)\n",
    "    df = df.sort_values(by='ts')\n",
    "    \n",
    "    return df"
   ]
  },
  {
   "cell_type": "code",
   "execution_count": null,
   "metadata": {},
   "outputs": [],
   "source": [
    "# Test\n",
    "df = formatDataFrameFromJSON(filename)\n",
    "plt.figure()\n",
    "df[\"open\"].plot()"
   ]
  },
  {
   "cell_type": "markdown",
   "metadata": {},
   "source": [
    "## Day - get Max&Min percentages \n",
    "Example with Week 9 : 27-02 -> 05-03"
   ]
  },
  {
   "cell_type": "code",
   "execution_count": null,
   "metadata": {},
   "outputs": [],
   "source": [
    "# Example with week 9\n",
    "try:\n",
    "    df_week = df[df.weekNumber == 9]\n",
    "\n",
    "    # Get monday, open & end\n",
    "    df_day = df_week[df_week[\"weekday\"] == 1]\n",
    "    openDate = df_day.index[0].replace(hour=5)\n",
    "    endDate = openDate.replace(hour=21)\n",
    "    print(\"open at: \", openDate, \". End: \", endDate)\n",
    "\n",
    "    open = df_day.loc[openDate][\"open\"]\n",
    "    print(\"Open: \", open)\n",
    "\n",
    "    # Get data in the time range [open-end]\n",
    "    time_range = df_day[(df_day[\"ts\"] < endDate) & (df_day[\"ts\"] >= openDate)]\n",
    "    max = time_range[\"high\"].max()\n",
    "    min = time_range[\"low\"].min()\n",
    "    print(\"Max: \", max)\n",
    "    print(\"Min: \", min)\n",
    "\n",
    "    # Get percentage\n",
    "    percentageMax = (max - open)/open\n",
    "    percentageMin = (min - open)/open\n",
    "\n",
    "    print(\"Percentage max: \",(percentageMax*100).round(2), \"%\")\n",
    "    print(\"Percentage min: \",(percentageMin*100).round(2), \"%\")\n",
    "except:\n",
    "    print(\"ERROR\")"
   ]
  },
  {
   "cell_type": "markdown",
   "metadata": {},
   "source": [
    "## Dataframe with percentage by hours"
   ]
  },
  {
   "cell_type": "code",
   "execution_count": null,
   "metadata": {
    "collapsed": true
   },
   "outputs": [],
   "source": [
    "def getPercentageByDay(df_day, params):\n",
    "    high, low = getHighAndLowPercentageByDay(df_day, params)\n",
    "    return high, low\n",
    "\n",
    "def getHighAndLowPercentageByDay(df_day, params):\n",
    "    #print(params)\n",
    "    #print(df_day.head())\n",
    "    openDate = df_day.index[0].replace(hour=params[\"beginHour\"])\n",
    "    open = df_day.loc[openDate][\"open\"]\n",
    "\n",
    "    high_day_serie = pd.Series([])\n",
    "    low_day_serie = pd.Series([])\n",
    "    for i in range(params['beginHour'], params[\"endHour\"] + 1):\n",
    "        date = df_day.index[0].replace(hour=i)\n",
    "        \n",
    "        high = df_day.loc[date][\"high\"]\n",
    "        low = df_day.loc[date][\"low\"]\n",
    "        \n",
    "        high_percentage = getPercentage(open, high)\n",
    "        low_percentage = getPercentage(open, low)\n",
    "        \n",
    "        high_day_serie = high_day_serie.append(pd.Series([high_percentage]), ignore_index=True)\n",
    "        low_day_serie = low_day_serie.append(pd.Series([low_percentage]), ignore_index=True)\n",
    "    \n",
    "    high_day_serie = high_day_serie.rename(df_day.index[0])\n",
    "    low_day_serie = low_day_serie.rename(df_day.index[0])\n",
    "    \n",
    "    return high_day_serie, low_day_serie    \n",
    "\n",
    "def getPercentage(open, high):\n",
    "    percentage = (high - open)/open\n",
    "    percentage = (percentage*100).round(3)\n",
    "    return percentage\n"
   ]
  },
  {
   "cell_type": "code",
   "execution_count": null,
   "metadata": {},
   "outputs": [],
   "source": [
    "### Test with Monday on Week 9\n",
    "def __main__():\n",
    "    df_week = df[df.weekNumber == 9]\n",
    "    df_day = df_week[df_week[\"weekday\"] == 1]\n",
    "    params = {\n",
    "        \"beginHour\" : 6,\n",
    "        \"endHour\" : 18\n",
    "    }\n",
    "    df_p = pd.DataFrame()\n",
    "    \n",
    "    high, low = getPercentageByDay(df_day, params)\n",
    "    df_p = df_p.append(high)\n",
    "    df_p = df_p.append(low)\n",
    "    return df_p\n",
    "\n",
    "try:\n",
    "    __main__().tail()\n",
    "except:\n",
    "    print(\"ERROR\")"
   ]
  },
  {
   "cell_type": "code",
   "execution_count": null,
   "metadata": {
    "collapsed": true
   },
   "outputs": [],
   "source": [
    "def getPercentageByWeek(df_week, params):\n",
    "    df_high_percentage = pd.DataFrame()\n",
    "    df_low_percentage = pd.DataFrame()\n",
    "    days = df_week.weekday.unique()\n",
    "    for i in days:\n",
    "        df_day = df_week[df_week[\"weekday\"] == i]\n",
    "        df_high_percentage_day, df_low_percentage_day = getPercentageByDay(df_day, params)\n",
    "        \n",
    "        df_high_percentage = df_high_percentage.append(df_high_percentage_day)\n",
    "        df_low_percentage = df_low_percentage.append(df_low_percentage_day)\n",
    "        \n",
    "    df_high_percentage.columns = range(params[\"beginHour\"], params[\"endHour\"] + 1)\n",
    "    df_low_percentage.columns = range(params[\"beginHour\"], params[\"endHour\"] + 1)\n",
    "    \n",
    "    dfs = {\n",
    "        \"highs\" : df_high_percentage,\n",
    "        \"lows\" : df_low_percentage\n",
    "    }\n",
    "    return dfs"
   ]
  },
  {
   "cell_type": "code",
   "execution_count": null,
   "metadata": {},
   "outputs": [],
   "source": [
    "def __main__():\n",
    "    df_week = df[df.weekNumber == 9]\n",
    "    \n",
    "    params = {\n",
    "        \"beginHour\" : 5,\n",
    "        \"endHour\" : 18\n",
    "    }\n",
    "    dfs = getPercentageByWeek(df_week, params)\n",
    "    return dfs\n",
    "\n",
    "try:\n",
    "    d = __main__()\n",
    "    d[\"lows\"]\n",
    "except:\n",
    "    print(\"ERROR\")"
   ]
  },
  {
   "cell_type": "code",
   "execution_count": null,
   "metadata": {
    "collapsed": true
   },
   "outputs": [],
   "source": [
    "def getHighLowDF(df, params):\n",
    "    df_year_high = pd.DataFrame()\n",
    "    df_year_low = pd.DataFrame()\n",
    "    weeks = df.weekNumber.unique()\n",
    "    for i in weeks:\n",
    "        df_week = df[df.weekNumber == i]\n",
    "        df_week_percentage = getPercentageByWeek(df_week, params)\n",
    "        \n",
    "        df_year_high = df_year_high.append(df_week_percentage[\"highs\"])\n",
    "        df_year_low = df_year_low.append(df_week_percentage[\"lows\"])\n",
    "    return {\"highs\": df_year_high, \"lows\": df_year_low}\n"
   ]
  },
  {
   "cell_type": "code",
   "execution_count": null,
   "metadata": {
    "collapsed": true
   },
   "outputs": [],
   "source": [
    "# Test\n",
    "try:\n",
    "    params = {\n",
    "        \"beginHour\" : 6,\n",
    "        \"endHour\" : 18\n",
    "    }\n",
    "    df_highs_lows = getHighLowDF(df, params)\n",
    "    df_highs_lows[\"highs\"].tail()\n",
    "except:\n",
    "    print(\"ERROR\")"
   ]
  },
  {
   "cell_type": "markdown",
   "metadata": {},
   "source": [
    "## Draw heatmaps"
   ]
  },
  {
   "cell_type": "code",
   "execution_count": null,
   "metadata": {},
   "outputs": [],
   "source": [
    "try:\n",
    "    plt.figure(figsize=(20,30))\n",
    "    sns.heatmap(df_highs_lows[\"lows\"], vmin=-8, vmax=0)\n",
    "except:\n",
    "    print(\"ERROR\")"
   ]
  },
  {
   "cell_type": "markdown",
   "metadata": {},
   "source": [
    "---\n",
    "# Part 2. Process gain "
   ]
  },
  {
   "cell_type": "code",
   "execution_count": null,
   "metadata": {
    "collapsed": true
   },
   "outputs": [],
   "source": [
    "def isRowWinning(df, index, params):\n",
    "    for i in range(params[\"beginHour\"], params[\"endHour\"] + 1):\n",
    "        high = df[\"highs\"].loc[index][i]\n",
    "        low  = df[\"lows\"].loc[index][i]\n",
    "        if(high > params[\"high_rate\"]):\n",
    "            return 1\n",
    "        elif(low < params[\"low_rate\"]):\n",
    "            return -1\n",
    "    return 0"
   ]
  },
  {
   "cell_type": "code",
   "execution_count": null,
   "metadata": {},
   "outputs": [],
   "source": [
    "# Test\n",
    "try:\n",
    "    params = {\n",
    "        \"high_rate\" : 1.4,\n",
    "        \"low_rate\" : -8,\n",
    "        \"fees_rate\" : 0.25/100,\n",
    "        \"beginHour\" : 6,\n",
    "        \"endHour\" : 18\n",
    "    }\n",
    "    nbWins = 0\n",
    "    nbLoses = 0\n",
    "\n",
    "    df_wins = pd.DataFrame()\n",
    "    for index, row in df_highs_lows[\"highs\"].iterrows():\n",
    "        res = isRowWinning(df_highs_lows, index, params)\n",
    "        open = df.loc[index][\"open\"]\n",
    "        high = df_highs_lows[\"highs\"].loc[index].max()\n",
    "        low = df_highs_lows[\"lows\"].loc[index].min()\n",
    "\n",
    "        serie = pd.Series([res, open, high, low], index=[\"win\", \"open\", \"high\", \"low\"])\n",
    "        serie = serie.rename(index)\n",
    "        df_wins = df_wins.append(serie)\n",
    "\n",
    "    nbDays = df_highs_lows[\"highs\"].shape[0]\n",
    "    missing = nbDays - (nbWins+nbLoses)\n",
    "    print(nbWins, nbLoses, nbWins + nbLoses,  missing)        \n",
    "    print(df_wins.head())\n",
    "    plt.figure(figsize=(15,15))\n",
    "    df_wins.loc[:\"2017-02-01\", \"win\"].plot()\n",
    "except:\n",
    "    print(\"ERROR\")"
   ]
  },
  {
   "cell_type": "code",
   "execution_count": null,
   "metadata": {
    "collapsed": true
   },
   "outputs": [],
   "source": [
    "def getWins(df, params): \n",
    "    df_wins = pd.DataFrame()\n",
    "    for index, row in df[\"highs\"].iterrows():\n",
    "        res = isRowWinning(df, index, params)\n",
    "        high = df[\"highs\"].loc[index].max()\n",
    "        low = df[\"lows\"].loc[index].min()\n",
    "\n",
    "        serie = pd.Series([res, high, low], index=[\"win\", \"high\", \"low\"])\n",
    "        serie = serie.rename(index)\n",
    "        df_wins = df_wins.append(serie)\n",
    "    return df_wins\n"
   ]
  },
  {
   "cell_type": "code",
   "execution_count": null,
   "metadata": {},
   "outputs": [],
   "source": [
    "## Test\n",
    "try: \n",
    "    params = {\n",
    "        \"high_rate\" : 1.5,\n",
    "        \"low_rate\" : -8,\n",
    "        \"fees_rate\" : 0.25/100,\n",
    "        \"beginHour\" : 6,\n",
    "        \"endHour\" : 18\n",
    "    }\n",
    "    nbWins = 0\n",
    "    nbLoses = 0\n",
    "\n",
    "    df_wins = getWins(df_highs_lows, params)\n",
    "\n",
    "    nbDays = df_highs_lows[\"highs\"].shape[0]\n",
    "    missing = nbDays - (nbWins+nbLoses)\n",
    "    print(nbWins, nbLoses, nbWins + nbLoses,  missing)        \n",
    "    print(df_wins.head())\n",
    "    plt.figure(figsize=(15,15))\n",
    "\n",
    "    df_wins.loc[\"2017-11-01\":, \"win\"].plot()\n",
    "except:\n",
    "    print(\"ERROR\")"
   ]
  },
  {
   "cell_type": "code",
   "execution_count": null,
   "metadata": {
    "collapsed": true
   },
   "outputs": [],
   "source": [
    "def getAmountAfterTransaction(amount, fees_rate, rate):\n",
    "    amount_after_buying = amount * (1 - fees_rate)\n",
    "    amount_before_selling = amount_after_buying * (1 + rate/100)\n",
    "    amount_after_selling = amount_before_selling * (1 - fees_rate)\n",
    "    diff = amount_after_selling - amount\n",
    "    return diff"
   ]
  },
  {
   "cell_type": "code",
   "execution_count": null,
   "metadata": {
    "collapsed": true
   },
   "outputs": [],
   "source": [
    "def getGain(df_wins, amount, params):\n",
    "    gain = 0\n",
    "    for index,row in df_wins.iterrows():\n",
    "        win = row[\"win\"]\n",
    "        rate = params[\"high_rate\"]\n",
    "        if(win < 1):\n",
    "            rate = params[\"low_rate\"]\n",
    "        gain = gain + getAmountAfterTransaction(amount, params[\"fees_rate\"], rate)\n",
    "    return gain"
   ]
  },
  {
   "cell_type": "code",
   "execution_count": null,
   "metadata": {
    "collapsed": true
   },
   "outputs": [],
   "source": [
    "try:\n",
    "    df.head()\n",
    "    df.loc[\"2017-12\":]\n",
    "except:\n",
    "    print(\"ERROR\")"
   ]
  },
  {
   "cell_type": "code",
   "execution_count": null,
   "metadata": {
    "collapsed": true
   },
   "outputs": [],
   "source": [
    "# Test\n",
    "try:\n",
    "    amount = 1000\n",
    "    params = {\n",
    "        \"high_rate\" : 1.9,\n",
    "        \"low_rate\" : -4,\n",
    "        \"fees_rate\" : 0.25/100,\n",
    "        \"beginHour\" : 6,\n",
    "        \"endHour\" : 19\n",
    "    }\n",
    "\n",
    "    df_last_semester = df[\"2017-12\":]\n",
    "    df_highs_lows = getHighLowDF(df_last_semester, params)\n",
    "    df_highs_lows[\"highs\"].head()\n",
    "    df_wins = getWins(df_highs_lows, params)\n",
    "    getGain(df_wins, amount, params)\n",
    "except:\n",
    "    print(\"ERROR\")"
   ]
  },
  {
   "cell_type": "markdown",
   "metadata": {},
   "source": [
    "## Hyper tuning"
   ]
  },
  {
   "cell_type": "code",
   "execution_count": null,
   "metadata": {
    "collapsed": true
   },
   "outputs": [],
   "source": [
    "def hyper_tuning(df, beginHours, endHours, low_rates, high_rates, fees_rate, amount):\n",
    "    df_gains = pd.DataFrame()\n",
    "\n",
    "    nb_configurations = len(low_rates) * len(high_rates) * len(beginHours)\n",
    "    remaining_loops = nb_configurations\n",
    "    print(\"Running\", nb_configurations, \"configurations.\")\n",
    "\n",
    "    for beginHour in beginHours:\n",
    "        for low_rate in low_rates:\n",
    "            for high_rate in high_rates:\n",
    "                for endHour in endHours:\n",
    "                    params = {\n",
    "                        \"beginHour\": beginHour,\n",
    "                        \"endHour\": endHour,\n",
    "                        \"low_rate\": low_rate,\n",
    "                        \"high_rate\": high_rate,\n",
    "                        \"fees_rate\": fees_rate\n",
    "                    }\n",
    "                    df_highs_lows = getHighLowDF(df, params)\n",
    "                    df_wins = getWins(df_highs_lows, params)\n",
    "                    gain = getGain(df_wins, amount, params)\n",
    "\n",
    "                    index = str(params[\"low_rate\"]) + \"%_\" \\\n",
    "                        + str(params[\"high_rate\"]) + \"%__\" \\\n",
    "                        + str(params[\"beginHour\"]) + \"h-\" \\\n",
    "                        + str(params[\"endHour\"]) + \"h\"\n",
    "                    serie = pd.Series(\n",
    "                        [gain, params[\"low_rate\"], params[\"high_rate\"], \\\n",
    "                             params[\"beginHour\"], params[\"endHour\"], index], \\\n",
    "                        index=[\"gain\", \"low_rate\", \"high_rate\", \"beginHour\", \"endHour\", \"ticks\"])\n",
    "                    serie = serie.rename(index)\n",
    "\n",
    "                    df_gains = df_gains.append(serie)\n",
    "                    remaining_loops = remaining_loops - 1\n",
    "                    print(index, gain,\"$\", \" (\", format(100 - remaining_loops*100/nb_configurations, \".1f\"),\"%)\")\n",
    "                    \n",
    "    return df_gains\n"
   ]
  },
  {
   "cell_type": "code",
   "execution_count": null,
   "metadata": {
    "collapsed": true
   },
   "outputs": [],
   "source": [
    "# Test\n",
    "def __main__():\n",
    "    return\n",
    "    try:\n",
    "        low_rates = range(-2, -6, -1)\n",
    "        high_rates = np.arange(1.0, 3.0, 0.1)\n",
    "        beginHours = range(2,10,1)\n",
    "        endHours = range(18,19,1)\n",
    "\n",
    "        fees_rate = 0.24/100\n",
    "        amount = 1000\n",
    "\n",
    "        df_gains = hyper_tuning(df[\"2018-01-08\":\"2018-01-14\"], beginHours, endHours, low_rates, high_rates, fees_rate, amount)\n",
    "    except:\n",
    "        print(\"ERROR\")\n",
    "        \n",
    "__main__()"
   ]
  },
  {
   "cell_type": "markdown",
   "metadata": {},
   "source": [
    "### Plotting"
   ]
  },
  {
   "cell_type": "code",
   "execution_count": null,
   "metadata": {},
   "outputs": [],
   "source": [
    "# Show best configurations\n",
    "df_gains[df_gains[\"gain\"] > 0].sort_values(by='gain', ascending=False)[\"gain\"]"
   ]
  },
  {
   "cell_type": "code",
   "execution_count": null,
   "metadata": {
    "collapsed": true
   },
   "outputs": [],
   "source": [
    "# Show when winning\n",
    "plt.figure(figsize=(20,10))\n",
    "plot = df_gains[\"gain\"].plot(rot=45)\n"
   ]
  },
  {
   "cell_type": "markdown",
   "metadata": {},
   "source": [
    "## Explore with all year data"
   ]
  },
  {
   "cell_type": "code",
   "execution_count": null,
   "metadata": {
    "collapsed": true
   },
   "outputs": [],
   "source": [
    "def getGainFromDF(df, amount, params):\n",
    "    df_highs_lows = getHighLowDF(df, params)\n",
    "    df_wins = getWins(df_highs_lows, params)\n",
    "    gain = getGain(df_wins, amount, params)\n",
    "    return gain"
   ]
  },
  {
   "cell_type": "code",
   "execution_count": null,
   "metadata": {
    "collapsed": true
   },
   "outputs": [],
   "source": [
    "def getWinsFromDF(df, params):\n",
    "    df_highs_lows = getHighLowDF(df, params)\n",
    "    df_wins = getWins(df_highs_lows, params)\n",
    "    return df_wins"
   ]
  },
  {
   "cell_type": "code",
   "execution_count": null,
   "metadata": {},
   "outputs": [],
   "source": [
    "amount = 1000\n",
    "params = {\n",
    "    \"high_rate\": 5,\n",
    "    \"low_rate\": -5,\n",
    "    \"beginHour\":5,\n",
    "    \"endHour\":  15,\n",
    "    \"fees_rate\": 0.24/100\n",
    "}\n",
    "\n",
    "df_m1 = df[ \"2018-01\" ]\n",
    "df_w2 = df[ df[\"weekNumber\"] == 2 ]\n",
    "df_w3 = df[ df[\"weekNumber\"] == 3 ]\n",
    "df_w4 = df[ df[\"weekNumber\"] == 4 ]\n",
    "\n",
    "df_week = df_m1\n",
    "\n",
    "# Wins\n",
    "df_wins = getWinsFromDF(df_week, params);\n",
    "plt.figure(figsize=(20,5))\n",
    "df_wins[\"win\"].plot()\n",
    "\n",
    "# Gain\n",
    "gain = getGainFromDF(df_week, amount, params)\n",
    "print(\"Gain {gain}$ \".format(gain=gain))"
   ]
  },
  {
   "cell_type": "code",
   "execution_count": null,
   "metadata": {},
   "outputs": [],
   "source": [
    "# Heatmaps\n",
    "df_highs_lows = getHighLowDF(df_week, params)\n",
    "\n",
    "plt.figure(figsize=(20,5))\n",
    "sns.heatmap(df_highs_lows[\"highs\"], vmin=0, vmax=2, annot=True)\n",
    "plt.figure(figsize=(20,5))\n",
    "sns.heatmap(df_highs_lows[\"lows\"], vmin=-7, vmax=0, annot=True)"
   ]
  },
  {
   "cell_type": "code",
   "execution_count": null,
   "metadata": {
    "collapsed": true
   },
   "outputs": [],
   "source": [
    "def getOpensByDay(df):\n",
    "    daily_df = pd.DataFrame()\n",
    "    for i in df[\"weekday\"].unique():\n",
    "        current_series = df[ df[\"weekday\"] == i][\"open\"]\n",
    "        day = current_series.index[0].strftime(\"%A\")\n",
    "        daily_df[day] = current_series.values\n",
    "    return daily_df"
   ]
  },
  {
   "cell_type": "code",
   "execution_count": null,
   "metadata": {},
   "outputs": [],
   "source": [
    "plt.figure(figsize=(20,8))\n",
    "getOpensByDay(df_w3).plot()\n",
    "#plt.figure(figsize=(20,5))\n",
    "\n",
    "#getOpensByDay(df_w3).plot()\n",
    "#getOpensByDay(df_w4).plot()\n"
   ]
  },
  {
   "cell_type": "code",
   "execution_count": null,
   "metadata": {
    "collapsed": true
   },
   "outputs": [],
   "source": []
  },
  {
   "cell_type": "code",
   "execution_count": null,
   "metadata": {
    "collapsed": true
   },
   "outputs": [],
   "source": []
  }
 ],
 "metadata": {
  "kernelspec": {
   "display_name": "Python 3",
   "language": "python",
   "name": "python3"
  },
  "language_info": {
   "codemirror_mode": {
    "name": "ipython",
    "version": 3
   },
   "file_extension": ".py",
   "mimetype": "text/x-python",
   "name": "python",
   "nbconvert_exporter": "python",
   "pygments_lexer": "ipython3",
   "version": "3.5.2"
  }
 },
 "nbformat": 4,
 "nbformat_minor": 2
}
