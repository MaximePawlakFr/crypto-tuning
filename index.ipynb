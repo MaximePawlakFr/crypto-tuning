{
 "cells": [
  {
   "cell_type": "code",
   "execution_count": null,
   "metadata": {
    "collapsed": true
   },
   "outputs": [],
   "source": [
    "import pandas as pd\n",
    "import numpy as np\n",
    "import time\n",
    "from datetime import datetime\n",
    "import matplotlib.pyplot as plt\n",
    "import seaborn as sns\n",
    "%matplotlib inline"
   ]
  },
  {
   "cell_type": "markdown",
   "metadata": {},
   "source": [
    "## Import static data"
   ]
  },
  {
   "cell_type": "code",
   "execution_count": null,
   "metadata": {},
   "outputs": [],
   "source": [
    "df1 = pd.read_json(\"./data/w01-18.json\")\n",
    "df2 = pd.read_json(\"./data/w19-34.json\")\n",
    "df3 = pd.read_json(\"./data/w35-49.json\")\n",
    "df4 = pd.read_json(\"./data/w50-52.json\")\n",
    "\n",
    "print(df1.shape)\n",
    "print(df2.shape)\n",
    "print(df3.shape)\n",
    "print(df4.shape)"
   ]
  },
  {
   "cell_type": "code",
   "execution_count": null,
   "metadata": {
    "collapsed": true
   },
   "outputs": [],
   "source": [
    "df = pd.concat([df1, df2, df3, df4])"
   ]
  },
  {
   "cell_type": "code",
   "execution_count": null,
   "metadata": {
    "collapsed": true
   },
   "outputs": [],
   "source": [
    "df.columns = [\"ts\", \"open\", \"high\", \"low\", \"close\", \"vol_btc\", \"vol_cur\", \"weighted_price\"]"
   ]
  },
  {
   "cell_type": "code",
   "execution_count": null,
   "metadata": {},
   "outputs": [],
   "source": [
    "df[\"ts\"] = pd.to_datetime(df[\"ts\"], unit=\"s\")\n",
    "print(df.shape)\n",
    "print(df.head())\n",
    "print(df.tail())"
   ]
  },
  {
   "cell_type": "markdown",
   "metadata": {},
   "source": [
    "#### First plot"
   ]
  },
  {
   "cell_type": "code",
   "execution_count": null,
   "metadata": {},
   "outputs": [],
   "source": [
    "plt.figure(figsize=(15,5))\n",
    "plt.plot(df[\"ts\"], df[\"open\"])"
   ]
  },
  {
   "cell_type": "markdown",
   "metadata": {},
   "source": [
    "#### Select sub-range"
   ]
  },
  {
   "cell_type": "code",
   "execution_count": null,
   "metadata": {},
   "outputs": [],
   "source": [
    "march = df[df.ts > \"2017-03-01 00:00:00\"]\n",
    "print(march.head())\n",
    "print(march.tail())"
   ]
  },
  {
   "cell_type": "markdown",
   "metadata": {},
   "source": [
    "## Set timestamp as index"
   ]
  },
  {
   "cell_type": "code",
   "execution_count": null,
   "metadata": {},
   "outputs": [],
   "source": [
    "df = df.set_index(\"ts\")\n",
    "print(df.tail())"
   ]
  },
  {
   "cell_type": "code",
   "execution_count": null,
   "metadata": {},
   "outputs": [],
   "source": [
    "df.loc[\"2017-03-01\":\"2017-03-10\"]"
   ]
  },
  {
   "cell_type": "markdown",
   "metadata": {},
   "source": [
    "## Set week number and weekday"
   ]
  },
  {
   "cell_type": "code",
   "execution_count": null,
   "metadata": {},
   "outputs": [],
   "source": [
    "date = datetime(2017,12, 1)\n",
    "week = date.isocalendar()[1]\n",
    "print(\"Week:\", week)\n",
    "\n",
    "weekday = date.isoweekday()\n",
    "print(\"Weekday: \", weekday)"
   ]
  },
  {
   "cell_type": "markdown",
   "metadata": {},
   "source": [
    "#### re-add ts as a column"
   ]
  },
  {
   "cell_type": "code",
   "execution_count": null,
   "metadata": {},
   "outputs": [],
   "source": [
    "df[\"ts\"] = df.index\n",
    "df.tail()"
   ]
  },
  {
   "cell_type": "markdown",
   "metadata": {},
   "source": [
    "### Functions\n",
    "* getWeekNumber(date)\n",
    "* getWeekday(date)"
   ]
  },
  {
   "cell_type": "code",
   "execution_count": null,
   "metadata": {},
   "outputs": [],
   "source": [
    "def getWeekNumber(date):\n",
    "    return date.isocalendar()[1]\n",
    "\n",
    "def getYear(date):\n",
    "    return date.isocalendar()[0]\n",
    "\n",
    "def getWeekday(date):\n",
    "    return date.isoweekday()\n",
    "\n",
    "def getYearAndWeek(date):\n",
    "    y = str(getYear(date)) + (str(getWeekNumber(date)) if getWeekNumber(date)>10 \\\n",
    "        else '0' + str(getWeekNumber(date)))\n",
    "    return y"
   ]
  },
  {
   "cell_type": "markdown",
   "metadata": {},
   "source": [
    "#### Add columns\n",
    "* weekNumber\n",
    "* weekday"
   ]
  },
  {
   "cell_type": "code",
   "execution_count": null,
   "metadata": {},
   "outputs": [],
   "source": [
    "df[\"weekNumber\"] = df[\"ts\"].apply(getWeekNumber)\n",
    "df[\"weekday\"] = df[\"ts\"].apply(getWeekday)\n",
    "df[\"timeRef\"] = df[\"ts\"].apply(getYearAndWeek)\n",
    "df = df.sort_values(by='ts')\n",
    "df.tail()"
   ]
  },
  {
   "cell_type": "code",
   "execution_count": null,
   "metadata": {},
   "outputs": [],
   "source": [
    "\n",
    "\n",
    "\n",
    "#Drop first because E to week 52\n",
    "# Drop last be\n",
    "\n",
    "df = df.sort_values(by='ts')\n",
    "#nbWrongFirst = df.loc[df[\"weekNumber\"] == 52 ].shape[0]\n",
    "#nbWrongFirst = df.loc[df[\"weekNumber\"] == 52 ].shape[0]\n",
    "nb2018 = df[\"2018-01\":].shape[0]\n",
    "aa = df.loc[\"2017-01-01\":\"2017-01-10\"]\n",
    "aa = aa[aa[\"weekNumber\"] == 52]\n",
    "nbWrongFirst = aa.shape[0]\n",
    "#.loc[df[\"weekNumber\"] == 52 ]\n",
    "\n",
    "print(\"Nb2018: \", nb2018)\n",
    "print(\"nbWrongFirst: \", nbWrongFirst)\n",
    "#df[:\"2017-01\"]\n",
    "#df[:\"2017-01\", df[\"weekNumber\"] == 51 ]\n",
    "#.shape[0]\n",
    "#[df[\"weekNumber\"] == 51]\n",
    "df = df[nbWrongFirst:-nb2018]\n",
    "\n",
    "print(\"Head: \",df.head())\n",
    "print(\"Tail: \",df.tail())\n",
    "# Drop first because E to week 52\n",
    "# Drop last b/c E to week 01\n",
    "#df = df[1:-1]\n"
   ]
  },
  {
   "cell_type": "markdown",
   "metadata": {},
   "source": [
    "## Day - get Max&Min percentages \n",
    "Example with Week 9 : 27-02 -> 05-03"
   ]
  },
  {
   "cell_type": "code",
   "execution_count": null,
   "metadata": {},
   "outputs": [],
   "source": [
    "# Example with week 9\n",
    "df_week = df[df.weekNumber == 9]\n",
    "\n",
    "# Get monday, open & end\n",
    "df_day = df_week[df_week[\"weekday\"] == 1]\n",
    "openDate = df_day.index[0].replace(hour=5)\n",
    "endDate = openDate.replace(hour=21)\n",
    "print(\"open at: \", openDate, \". End: \", endDate)\n",
    "\n",
    "open = df_day.loc[openDate][\"open\"]\n",
    "print(\"Open: \", open)\n",
    "\n",
    "# Get data in the time range [open-end]\n",
    "time_range = df_day[(df_day[\"ts\"] < endDate) & (df_day[\"ts\"] >= openDate)]\n",
    "max = time_range[\"high\"].max()\n",
    "min = time_range[\"low\"].min()\n",
    "print(\"Max: \", max)\n",
    "print(\"Min: \", min)\n",
    "\n",
    "# Get percentage\n",
    "percentageMax = (max - open)/open\n",
    "percentageMin = (min - open)/open\n",
    "\n",
    "print(\"Percentage max: \",(percentageMax*100).round(2), \"%\")\n",
    "print(\"Percentage min: \",(percentageMin*100).round(2), \"%\")"
   ]
  },
  {
   "cell_type": "markdown",
   "metadata": {},
   "source": [
    "## Dataframe with percentage by hours"
   ]
  },
  {
   "cell_type": "code",
   "execution_count": null,
   "metadata": {},
   "outputs": [],
   "source": [
    "def getPercentageByDay(df_day, beginHour, endHour):\n",
    "    #high = getHighPercentageByDay(df_day, beginHour, endHour)\n",
    "    #low = getLowPercentageByDay(df_day, beginHour, endHour)\n",
    "    high, low = getHighAndLowPercentageByDay(df_day, beginHour, endHour)\n",
    "    return high, low\n",
    "\n",
    "def getHighAndLowPercentageByDay(df_day, beginHour, endHour):\n",
    "    openDate = df_day.index[0].replace(hour=beginHour)\n",
    "    open = df_day.loc[openDate][\"open\"]\n",
    "\n",
    "    high_day_serie = pd.Series([])\n",
    "    low_day_serie = pd.Series([])\n",
    "    for i in range(beginHour, endHour+1):\n",
    "        date = df_day.index[0].replace(hour=i)\n",
    "        \n",
    "        high = df_day.loc[date][\"high\"]\n",
    "        low = df_day.loc[date][\"low\"]\n",
    "        \n",
    "        high_percentage = getPercentage(open, high)\n",
    "        low_percentage = getPercentage(open, low)\n",
    "        \n",
    "        high_day_serie = high_day_serie.append(pd.Series([high_percentage]), ignore_index=True)\n",
    "        low_day_serie = low_day_serie.append(pd.Series([low_percentage]), ignore_index=True)\n",
    "    \n",
    "    high_day_serie = high_day_serie.rename(df_day.index[0])\n",
    "    low_day_serie = low_day_serie.rename(df_day.index[0])\n",
    "    \n",
    "    return high_day_serie, low_day_serie\n",
    "\n",
    "def getLowPercentageByDay(df_day, beginHour, endHour):\n",
    "    openDate = df_day.index[0].replace(hour=beginHour)\n",
    "    open = df_day.loc[openDate][\"open\"]\n",
    "    low_day_serie = pd.Series([])\n",
    "    for i in range(beginHour, endHour+1):\n",
    "        date = df_day.index[0].replace(hour=i)\n",
    "        low = df_day.loc[date][\"low\"]\n",
    "        low_percentage = getPercentage(open, low)\n",
    "        low_day_serie = day_serie.append(pd.Series([low_percentage]), ignore_index=True)\n",
    "    low_day_serie = low_day_serie.rename(df_day.index[0])\n",
    "    return day_serie\n",
    "    \n",
    "\n",
    "def getPercentage(open, high):\n",
    "    percentage = (high - open)/open\n",
    "    percentage = (percentage*100).round(2)\n",
    "    return percentage\n"
   ]
  },
  {
   "cell_type": "code",
   "execution_count": null,
   "metadata": {},
   "outputs": [],
   "source": [
    "### Test with Monday on Week 9\n",
    "def __main__():\n",
    "    df_week = df[df.weekNumber == 9]\n",
    "    df_day = df_week[df_week[\"weekday\"] == 1]\n",
    "    openHour = 6\n",
    "    endHour = 18\n",
    "    df_p = pd.DataFrame()\n",
    "    \n",
    "    high, low = getPercentageByDay(df_day, openHour, endHour)\n",
    "    df_p = df_p.append(high)\n",
    "    df_p = df_p.append(low)\n",
    "    return df_p\n",
    "    \n",
    "__main__().tail()"
   ]
  },
  {
   "cell_type": "code",
   "execution_count": null,
   "metadata": {},
   "outputs": [],
   "source": [
    "def getPercentageByWeek(df_week, openHour, endHour):\n",
    "    dfs = {}\n",
    "    df_high_percentage = pd.DataFrame()\n",
    "    df_low_percentage = pd.DataFrame()\n",
    "    for i in range(1,8):\n",
    "        df_day = df_week[df_week[\"weekday\"] == i]\n",
    "        df_high_percentage_day, df_low_percentage_day = getPercentageByDay(df_day, openHour, endHour)\n",
    "        \n",
    "        df_high_percentage = df_high_percentage.append(df_high_percentage_day)\n",
    "        df_low_percentage = df_low_percentage.append(df_low_percentage_day)\n",
    "    df_high_percentage.columns = range(openHour, endHour+1)\n",
    "    df_low_percentage.columns = range(openHour, endHour+1)\n",
    "    dfs[\"highs\"] = df_high_percentage\n",
    "    dfs[\"lows\"] = df_low_percentage\n",
    "    #return df_high_percentage, df_low_percentage\n",
    "    return dfs"
   ]
  },
  {
   "cell_type": "code",
   "execution_count": null,
   "metadata": {},
   "outputs": [],
   "source": [
    "def __main__():\n",
    "    df_week = df[df.weekNumber == 9]\n",
    "    openHour = 5\n",
    "    endHour = 18\n",
    "    dfs = getPercentageByWeek(df_week, openHour, endHour)\n",
    "    return dfs\n",
    "d = __main__()\n",
    "d[\"lows\"]"
   ]
  },
  {
   "cell_type": "code",
   "execution_count": null,
   "metadata": {},
   "outputs": [],
   "source": [
    "sns.heatmap(d[\"lows\"])"
   ]
  },
  {
   "cell_type": "code",
   "execution_count": null,
   "metadata": {},
   "outputs": [],
   "source": [
    "def getHighLowDF(df, openHour,endHour):\n",
    "    df_year_high = pd.DataFrame()\n",
    "    df_year_low = pd.DataFrame()\n",
    "    for i in range(1,53):\n",
    "        df_week = df[df.weekNumber == i]\n",
    "        df_week_percentage = getPercentageByWeek(df_week, openHour, endHour)\n",
    "        \n",
    "        df_year_high = df_year_high.append(df_week_percentage[\"highs\"])\n",
    "        df_year_low = df_year_low.append(df_week_percentage[\"lows\"])\n",
    "    return {\"highs\": df_year_high, \"lows\": df_year_low}\n",
    "\n",
    "openHour = 6\n",
    "endHour = 18\n",
    "df_year = getHighLowDF(df, openHour, endHour)\n",
    "df_year[\"highs\"].tail()"
   ]
  },
  {
   "cell_type": "markdown",
   "metadata": {},
   "source": [
    "## Draw heatmaps"
   ]
  },
  {
   "cell_type": "code",
   "execution_count": null,
   "metadata": {
    "collapsed": true
   },
   "outputs": [],
   "source": [
    "plt.figure(figsize=(20,30))\n",
    "sns.heatmap(df_year[\"lows\"], vmin=-8, vmax=0)"
   ]
  },
  {
   "cell_type": "markdown",
   "metadata": {},
   "source": [
    "---\n",
    "# Part 2. Process gain "
   ]
  },
  {
   "cell_type": "code",
   "execution_count": null,
   "metadata": {},
   "outputs": [],
   "source": [
    "def isRowWinning(df, index, openHour, endHour, high_rate, low_rate):\n",
    "    for i in range(openHour, endHour+1):\n",
    "        high = df[\"highs\"].loc[index][i]\n",
    "        low  = df[\"lows\"].loc[index][i]\n",
    "        if(high > high_rate):\n",
    "            return 1\n",
    "        elif(low < low_rate):\n",
    "            return -1\n",
    "    return 0"
   ]
  },
  {
   "cell_type": "code",
   "execution_count": null,
   "metadata": {},
   "outputs": [],
   "source": [
    "# Test\n",
    "\n",
    "high_rate = 1.4\n",
    "low_rate = -8\n",
    "fees_rate = 0.25/100\n",
    "#openHour = 5\n",
    "#endHour = 18\n",
    "\n",
    "nbWins = 0\n",
    "nbLoses = 0\n",
    "\n",
    "#print(df_year)\n",
    "df_wins = pd.DataFrame()\n",
    "for index, row in df_year[\"highs\"].iterrows():\n",
    "    res = isRowWinning(df_year, index, openHour, endHour, high_rate, low_rate)\n",
    "    open = df.loc[index][\"open\"]\n",
    "    high = df_year[\"highs\"].loc[index].max()\n",
    "    low = df_year[\"lows\"].loc[index].min()\n",
    "    \n",
    "    serie = pd.Series([res, open, high, low], index=[\"win\", \"open\", \"high\", \"low\"])\n",
    "    serie = serie.rename(index)\n",
    "    df_wins = df_wins.append(serie)\n",
    "            \n",
    "nbDays = df_year[\"highs\"].shape[0]\n",
    "missing = nbDays - (nbWins+nbLoses)\n",
    "print(nbWins, nbLoses, nbWins + nbLoses,  missing)        \n",
    "print(df_wins.head())\n",
    "plt.figure(figsize=(15,15))\n",
    "df_wins.loc[:\"2017-02-01\", \"win\"].plot()"
   ]
  },
  {
   "cell_type": "code",
   "execution_count": null,
   "metadata": {},
   "outputs": [],
   "source": [
    "def getWins(df, openHour, endHour, high_rate, low_rate): \n",
    "    df_wins = pd.DataFrame()\n",
    "    for index, row in df[\"highs\"].iterrows():\n",
    "        res = isRowWinning(df, index, openHour, endHour, high_rate, low_rate)\n",
    "        #open = df.loc[index][\"open\"]\n",
    "        high = df[\"highs\"].loc[index].max()\n",
    "        low = df[\"lows\"].loc[index].min()\n",
    "\n",
    "        serie = pd.Series([res, high, low], index=[\"win\", \"high\", \"low\"])\n",
    "        serie = serie.rename(index)\n",
    "        df_wins = df_wins.append(serie)\n",
    "        #print(res)\n",
    "    #print(df_wins)\n",
    "    return df_wins\n"
   ]
  },
  {
   "cell_type": "code",
   "execution_count": null,
   "metadata": {},
   "outputs": [],
   "source": [
    "## Test\n",
    "\n",
    "high_rate = 1.5\n",
    "low_rate = -6\n",
    "fees_rate = 0.25/100\n",
    "\n",
    "nbWins = 0\n",
    "nbLoses = 0\n",
    "\n",
    "df_wins = getWins(df_year,openHour, endHour,  high_rate, low_rate)\n",
    "\n",
    "nbDays = df_year[\"highs\"].shape[0]\n",
    "missing = nbDays - (nbWins+nbLoses)\n",
    "print(nbWins, nbLoses, nbWins + nbLoses,  missing)        \n",
    "print(df_wins.head())\n",
    "plt.figure(figsize=(15,15))\n",
    "\n",
    "df_wins.loc[:\"2017-02-01\", \"win\"].plot()"
   ]
  },
  {
   "cell_type": "code",
   "execution_count": null,
   "metadata": {},
   "outputs": [],
   "source": [
    "def getAmountAfterTransaction(amount, fees_rate, rate):\n",
    "    amount_after_buying = amount * (1 - fees_rate)\n",
    "    amount_before_selling = amount_after_buying * (1 + rate/100)\n",
    "    amount_after_selling = amount_before_selling * (1 - fees_rate)\n",
    "    diff = amount_after_selling - amount\n",
    "    return diff"
   ]
  },
  {
   "cell_type": "code",
   "execution_count": null,
   "metadata": {},
   "outputs": [],
   "source": [
    "## Test\n",
    "high_rate = 1.9\n",
    "low_rate = -4\n",
    "fees_rate = 0.25/100\n",
    "print(getAmountAfterTransaction(1000, fees_rate, high_rate))\n",
    "getAmountAfterTransaction(1000, fees_rate, low_rate)"
   ]
  },
  {
   "cell_type": "code",
   "execution_count": null,
   "metadata": {},
   "outputs": [],
   "source": [
    "def getGain(df_wins, amount, fees_rate, high_rate, low_rate):\n",
    "    gain = 0\n",
    "    for index,row in df_wins.iterrows():\n",
    "        win = row[\"win\"]\n",
    "        rate = high_rate\n",
    "        if(win < 1):\n",
    "            rate = low_rate\n",
    "        gain = gain + getAmountAfterTransaction(amount, fees_rate, rate)\n",
    "    return gain"
   ]
  },
  {
   "cell_type": "code",
   "execution_count": null,
   "metadata": {},
   "outputs": [],
   "source": [
    "# Test\n",
    "\n",
    "amount = 1000\n",
    "high_rate = 1.9\n",
    "low_rate = -4\n",
    "fees_rate = 0.25/100\n",
    "openHour = 6\n",
    "endHour = 19\n",
    "\n",
    "df_year = getHighLowDF(df, openHour, endHour)\n",
    "df_wins = getWins(df_year,openHour, endHour,  high_rate, low_rate)\n",
    "getGain(df_wins[\"2017-12\":], amount, fees_rate, high_rate, low_rate)\n",
    "        "
   ]
  },
  {
   "cell_type": "markdown",
   "metadata": {},
   "source": [
    "## Hyper tuning"
   ]
  },
  {
   "cell_type": "code",
   "execution_count": null,
   "metadata": {},
   "outputs": [],
   "source": [
    "amount = 1000\n",
    "high_rate = 1.9\n",
    "low_rate = -4\n",
    "fees_rate = 0.25/100\n",
    "openHour = 6\n",
    "endHour = 19\n",
    "\n",
    "\n",
    "\n",
    "df_gains = pd.DataFrame()\n",
    "\n",
    "low_rates = range(-2, -7, -1)\n",
    "high_rates = np.arange(1.0, 2.0, 0.1)\n",
    "openHours = range(2,10,1)\n",
    "endHours = range(16,18,1)\n",
    "\n",
    "for low_rate in low_rates:\n",
    "    for high_rate in high_rates:\n",
    "        for openHour in openHours:\n",
    "            df_year_high, df_year_low = getHighLowDF(df, openHour, endHour)\n",
    "            df_wins = getWins(df_year_high, df_year_low, openHour, endHour,  high_rate, low_rate)\n",
    "            gain = getGain(df_wins[\"2017-12\":], amount, fees_rate, high_rate, low_rate)\n",
    "\n",
    "            index = str(low_rate)+\"%>\"+str(high_rate)+\"%/\"+str(openHour)+\"h-\"+str(endHour)+\"h\"\n",
    "            serie = pd.Series(\n",
    "                [gain, low_rate, high_rate, openHour, endHour, index], \n",
    "                index=[\"gain\", \"low_rate\", \"high_rate\", \"openHour\", \"endHour\", \"ticks\"])\n",
    "            serie = serie.rename(index)\n",
    "            print(index, gain,\"$\")\n",
    "            df_gains = df_gains.append(serie)\n",
    "\n",
    "plt.figure(figsize=(20,10))\n",
    "print(\"--\")\n",
    "print(df_gains.sort_values(by=\"gain\")[\"gain\"])\n",
    "#plot = df_gains[\"gain\"].plot(xticks=df_gains.index, rot=45)\n",
    "#sns.heatmap(df_gains[\"gain\"], annot=True)\n",
    "plot = df_gains[\"gain\"].plot(rot=45)\n",
    "#df_gains.gain\n",
    "#plot.set_xticklabels(df_gains[\"ticks\"])\n",
    "#print(df_gains.index)\n",
    "#print(df_gains[\"ticks\"].values)\n",
    "#plot.set_xticks(df_gains.index)\n",
    "#plot.tick_params(direction='out', length=6, width=2, colors='r')\n",
    "#plot.set_xticklabels(df_gains.index, rotation=45)"
   ]
  },
  {
   "cell_type": "markdown",
   "metadata": {},
   "source": [
    "## Explore with all year data"
   ]
  },
  {
   "cell_type": "code",
   "execution_count": null,
   "metadata": {
    "collapsed": true
   },
   "outputs": [],
   "source": [
    "#for i in range(2,12):\n",
    "#    plt.figure(figsize=(20,10))\n",
    "#    sns.heatmap(df_year_high.loc[\"2017-\"+str(i)+\"-01\":\"2017-\"+str(i+1)+\"-01\"], vmin=0, vmax=1.4)\n",
    "\n"
   ]
  },
  {
   "cell_type": "code",
   "execution_count": null,
   "metadata": {
    "collapsed": true
   },
   "outputs": [],
   "source": [
    "plt.figure(figsize=(20,10))\n",
    "dff = df_wins.loc[\"2017-12\":, \"win\"] \n",
    "ax = dff.plot(xticks=dff.index, rot=45)\n",
    "ax.set_xticklabels(dff.index);"
   ]
  },
  {
   "cell_type": "code",
   "execution_count": null,
   "metadata": {},
   "outputs": [],
   "source": [
    "plt.figure(figsize=(20,10))\n",
    "sns.heatmap(df_year_high.loc[\"2017-12-01\":\"2018-01-01\"], vmin=0, vmax=1.4, annot=True)\n",
    "plt.figure(figsize=(20,10))\n",
    "sns.heatmap(df_year_low.loc[\"2017-12-01\":\"2018-01-01\"], vmin=-7, vmax=0, annot=True)"
   ]
  },
  {
   "cell_type": "code",
   "execution_count": null,
   "metadata": {},
   "outputs": [],
   "source": [
    "plt.figure(figsize=(20,10))\n",
    "df_wins.loc[\"2017-12\":,\"win\"].plot()"
   ]
  },
  {
   "cell_type": "code",
   "execution_count": null,
   "metadata": {
    "collapsed": true
   },
   "outputs": [],
   "source": []
  },
  {
   "cell_type": "code",
   "execution_count": null,
   "metadata": {
    "collapsed": true
   },
   "outputs": [],
   "source": []
  },
  {
   "cell_type": "code",
   "execution_count": null,
   "metadata": {
    "collapsed": true
   },
   "outputs": [],
   "source": []
  }
 ],
 "metadata": {
  "kernelspec": {
   "display_name": "Python 3",
   "language": "python",
   "name": "python3"
  },
  "language_info": {
   "codemirror_mode": {
    "name": "ipython",
    "version": 3
   },
   "file_extension": ".py",
   "mimetype": "text/x-python",
   "name": "python",
   "nbconvert_exporter": "python",
   "pygments_lexer": "ipython3",
   "version": "3.5.2"
  }
 },
 "nbformat": 4,
 "nbformat_minor": 2
}
